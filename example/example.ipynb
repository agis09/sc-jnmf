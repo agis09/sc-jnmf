{
 "cells": [
  {
   "cell_type": "markdown",
   "metadata": {},
   "source": [
    "# Example "
   ]
  },
  {
   "cell_type": "code",
   "execution_count": 1,
   "metadata": {},
   "outputs": [],
   "source": [
    "import pandas as pd\n",
    "import numpy as np\n",
    "import cupy as cp\n",
    "from sc_jnmf import sc_JNMF\n",
    "\n",
    "np.random.seed(1)\n",
    "cp.random.seed(1)"
   ]
  },
  {
   "cell_type": "markdown",
   "metadata": {},
   "source": [
    "### import the data (gene expression profile quanified by different methods)"
   ]
  },
  {
   "cell_type": "code",
   "execution_count": 2,
   "metadata": {},
   "outputs": [],
   "source": [
    "df1 = pd.read_csv(\"../test_data/Pollen_default.csv\", index_col=0)\n",
    "df2 = pd.read_csv(\"../test_data/Pollen_reprocess.csv\", index_col=0)\n",
    "label = [i.split('_')[0] for i in df1.columns]\n",
    "df1.columns = label\n",
    "df2.columns = label"
   ]
  },
  {
   "cell_type": "code",
   "execution_count": 3,
   "metadata": {},
   "outputs": [
    {
     "data": {
      "text/html": [
       "<div>\n",
       "<style scoped>\n",
       "    .dataframe tbody tr th:only-of-type {\n",
       "        vertical-align: middle;\n",
       "    }\n",
       "\n",
       "    .dataframe tbody tr th {\n",
       "        vertical-align: top;\n",
       "    }\n",
       "\n",
       "    .dataframe thead th {\n",
       "        text-align: right;\n",
       "    }\n",
       "</style>\n",
       "<table border=\"1\" class=\"dataframe\">\n",
       "  <thead>\n",
       "    <tr style=\"text-align: right;\">\n",
       "      <th></th>\n",
       "      <th>HL60</th>\n",
       "      <th>GW21+2</th>\n",
       "      <th>HL60</th>\n",
       "      <th>GW16</th>\n",
       "      <th>Kera</th>\n",
       "      <th>BJ</th>\n",
       "      <th>GW21+2</th>\n",
       "      <th>GW21</th>\n",
       "      <th>GW16</th>\n",
       "      <th>2339</th>\n",
       "      <th>...</th>\n",
       "      <th>GW16</th>\n",
       "      <th>GW16</th>\n",
       "      <th>Kera</th>\n",
       "      <th>BJ</th>\n",
       "      <th>iPS</th>\n",
       "      <th>Kera</th>\n",
       "      <th>2338</th>\n",
       "      <th>HL60</th>\n",
       "      <th>Kera</th>\n",
       "      <th>GW16</th>\n",
       "    </tr>\n",
       "  </thead>\n",
       "  <tbody>\n",
       "    <tr>\n",
       "      <th>A1BG</th>\n",
       "      <td>0.0</td>\n",
       "      <td>0.0</td>\n",
       "      <td>0.0</td>\n",
       "      <td>0.00</td>\n",
       "      <td>0.0</td>\n",
       "      <td>0.0</td>\n",
       "      <td>0.00</td>\n",
       "      <td>0.00</td>\n",
       "      <td>0.0</td>\n",
       "      <td>0.77</td>\n",
       "      <td>...</td>\n",
       "      <td>0.0</td>\n",
       "      <td>0.0</td>\n",
       "      <td>0.0</td>\n",
       "      <td>1.63</td>\n",
       "      <td>1.61</td>\n",
       "      <td>0.0</td>\n",
       "      <td>0.00</td>\n",
       "      <td>0.0</td>\n",
       "      <td>0.0</td>\n",
       "      <td>0.00</td>\n",
       "    </tr>\n",
       "    <tr>\n",
       "      <th>A1BG-AS1</th>\n",
       "      <td>0.0</td>\n",
       "      <td>0.0</td>\n",
       "      <td>0.0</td>\n",
       "      <td>0.00</td>\n",
       "      <td>0.0</td>\n",
       "      <td>0.0</td>\n",
       "      <td>123.61</td>\n",
       "      <td>0.00</td>\n",
       "      <td>0.0</td>\n",
       "      <td>0.00</td>\n",
       "      <td>...</td>\n",
       "      <td>0.0</td>\n",
       "      <td>0.0</td>\n",
       "      <td>0.0</td>\n",
       "      <td>13.34</td>\n",
       "      <td>0.00</td>\n",
       "      <td>0.0</td>\n",
       "      <td>3.47</td>\n",
       "      <td>0.0</td>\n",
       "      <td>0.0</td>\n",
       "      <td>0.00</td>\n",
       "    </tr>\n",
       "    <tr>\n",
       "      <th>A1CF</th>\n",
       "      <td>0.0</td>\n",
       "      <td>0.0</td>\n",
       "      <td>0.0</td>\n",
       "      <td>0.12</td>\n",
       "      <td>0.0</td>\n",
       "      <td>0.0</td>\n",
       "      <td>0.00</td>\n",
       "      <td>0.00</td>\n",
       "      <td>0.0</td>\n",
       "      <td>0.00</td>\n",
       "      <td>...</td>\n",
       "      <td>0.0</td>\n",
       "      <td>0.0</td>\n",
       "      <td>0.0</td>\n",
       "      <td>0.00</td>\n",
       "      <td>0.00</td>\n",
       "      <td>0.0</td>\n",
       "      <td>0.00</td>\n",
       "      <td>0.0</td>\n",
       "      <td>0.0</td>\n",
       "      <td>0.00</td>\n",
       "    </tr>\n",
       "    <tr>\n",
       "      <th>A2LD1</th>\n",
       "      <td>0.0</td>\n",
       "      <td>0.0</td>\n",
       "      <td>0.0</td>\n",
       "      <td>0.00</td>\n",
       "      <td>0.0</td>\n",
       "      <td>0.0</td>\n",
       "      <td>0.00</td>\n",
       "      <td>0.00</td>\n",
       "      <td>0.0</td>\n",
       "      <td>0.00</td>\n",
       "      <td>...</td>\n",
       "      <td>0.0</td>\n",
       "      <td>0.0</td>\n",
       "      <td>0.0</td>\n",
       "      <td>0.00</td>\n",
       "      <td>0.00</td>\n",
       "      <td>0.0</td>\n",
       "      <td>0.00</td>\n",
       "      <td>0.0</td>\n",
       "      <td>0.0</td>\n",
       "      <td>0.33</td>\n",
       "    </tr>\n",
       "    <tr>\n",
       "      <th>A2M</th>\n",
       "      <td>0.0</td>\n",
       "      <td>0.0</td>\n",
       "      <td>0.0</td>\n",
       "      <td>0.00</td>\n",
       "      <td>0.0</td>\n",
       "      <td>0.0</td>\n",
       "      <td>6.67</td>\n",
       "      <td>5.07</td>\n",
       "      <td>0.0</td>\n",
       "      <td>0.00</td>\n",
       "      <td>...</td>\n",
       "      <td>0.0</td>\n",
       "      <td>0.0</td>\n",
       "      <td>0.0</td>\n",
       "      <td>0.00</td>\n",
       "      <td>0.00</td>\n",
       "      <td>0.0</td>\n",
       "      <td>0.00</td>\n",
       "      <td>0.0</td>\n",
       "      <td>0.0</td>\n",
       "      <td>0.00</td>\n",
       "    </tr>\n",
       "  </tbody>\n",
       "</table>\n",
       "<p>5 rows × 259 columns</p>\n",
       "</div>"
      ],
      "text/plain": [
       "          HL60  GW21+2  HL60  GW16  Kera   BJ  GW21+2  GW21  GW16  2339  ...  \\\n",
       "A1BG       0.0     0.0   0.0  0.00   0.0  0.0    0.00  0.00   0.0  0.77  ...   \n",
       "A1BG-AS1   0.0     0.0   0.0  0.00   0.0  0.0  123.61  0.00   0.0  0.00  ...   \n",
       "A1CF       0.0     0.0   0.0  0.12   0.0  0.0    0.00  0.00   0.0  0.00  ...   \n",
       "A2LD1      0.0     0.0   0.0  0.00   0.0  0.0    0.00  0.00   0.0  0.00  ...   \n",
       "A2M        0.0     0.0   0.0  0.00   0.0  0.0    6.67  5.07   0.0  0.00  ...   \n",
       "\n",
       "          GW16  GW16  Kera     BJ   iPS  Kera  2338  HL60  Kera  GW16  \n",
       "A1BG       0.0   0.0   0.0   1.63  1.61   0.0  0.00   0.0   0.0  0.00  \n",
       "A1BG-AS1   0.0   0.0   0.0  13.34  0.00   0.0  3.47   0.0   0.0  0.00  \n",
       "A1CF       0.0   0.0   0.0   0.00  0.00   0.0  0.00   0.0   0.0  0.00  \n",
       "A2LD1      0.0   0.0   0.0   0.00  0.00   0.0  0.00   0.0   0.0  0.33  \n",
       "A2M        0.0   0.0   0.0   0.00  0.00   0.0  0.00   0.0   0.0  0.00  \n",
       "\n",
       "[5 rows x 259 columns]"
      ]
     },
     "execution_count": 3,
     "metadata": {},
     "output_type": "execute_result"
    }
   ],
   "source": [
    "df1.head()"
   ]
  },
  {
   "cell_type": "code",
   "execution_count": 4,
   "metadata": {},
   "outputs": [
    {
     "data": {
      "text/html": [
       "<div>\n",
       "<style scoped>\n",
       "    .dataframe tbody tr th:only-of-type {\n",
       "        vertical-align: middle;\n",
       "    }\n",
       "\n",
       "    .dataframe tbody tr th {\n",
       "        vertical-align: top;\n",
       "    }\n",
       "\n",
       "    .dataframe thead th {\n",
       "        text-align: right;\n",
       "    }\n",
       "</style>\n",
       "<table border=\"1\" class=\"dataframe\">\n",
       "  <thead>\n",
       "    <tr style=\"text-align: right;\">\n",
       "      <th></th>\n",
       "      <th>HL60</th>\n",
       "      <th>GW21+2</th>\n",
       "      <th>HL60</th>\n",
       "      <th>GW16</th>\n",
       "      <th>Kera</th>\n",
       "      <th>BJ</th>\n",
       "      <th>GW21+2</th>\n",
       "      <th>GW21</th>\n",
       "      <th>GW16</th>\n",
       "      <th>2339</th>\n",
       "      <th>...</th>\n",
       "      <th>GW16</th>\n",
       "      <th>GW16</th>\n",
       "      <th>Kera</th>\n",
       "      <th>BJ</th>\n",
       "      <th>iPS</th>\n",
       "      <th>Kera</th>\n",
       "      <th>2338</th>\n",
       "      <th>HL60</th>\n",
       "      <th>Kera</th>\n",
       "      <th>GW16</th>\n",
       "    </tr>\n",
       "  </thead>\n",
       "  <tbody>\n",
       "    <tr>\n",
       "      <th>MT-TT</th>\n",
       "      <td>65.5678</td>\n",
       "      <td>0.0000</td>\n",
       "      <td>52.6264</td>\n",
       "      <td>26.5533</td>\n",
       "      <td>65.4145</td>\n",
       "      <td>0.0000</td>\n",
       "      <td>0.000</td>\n",
       "      <td>206.430</td>\n",
       "      <td>92.1051</td>\n",
       "      <td>36.4242</td>\n",
       "      <td>...</td>\n",
       "      <td>270.3900</td>\n",
       "      <td>0.000000</td>\n",
       "      <td>266.1970</td>\n",
       "      <td>0.0000</td>\n",
       "      <td>255.7840</td>\n",
       "      <td>0.0000</td>\n",
       "      <td>13.5307</td>\n",
       "      <td>166.095</td>\n",
       "      <td>349.491</td>\n",
       "      <td>142.056</td>\n",
       "    </tr>\n",
       "    <tr>\n",
       "      <th>MT-TS2</th>\n",
       "      <td>0.0000</td>\n",
       "      <td>0.0000</td>\n",
       "      <td>64.3211</td>\n",
       "      <td>0.0000</td>\n",
       "      <td>0.0000</td>\n",
       "      <td>0.0000</td>\n",
       "      <td>0.000</td>\n",
       "      <td>0.000</td>\n",
       "      <td>0.0000</td>\n",
       "      <td>21.8545</td>\n",
       "      <td>...</td>\n",
       "      <td>0.0000</td>\n",
       "      <td>0.000000</td>\n",
       "      <td>177.4650</td>\n",
       "      <td>98.1744</td>\n",
       "      <td>95.9191</td>\n",
       "      <td>33.2187</td>\n",
       "      <td>31.9817</td>\n",
       "      <td>0.000</td>\n",
       "      <td>522.079</td>\n",
       "      <td>0.000</td>\n",
       "    </tr>\n",
       "    <tr>\n",
       "      <th>MT-TH</th>\n",
       "      <td>120.2080</td>\n",
       "      <td>0.0000</td>\n",
       "      <td>0.0000</td>\n",
       "      <td>0.0000</td>\n",
       "      <td>0.0000</td>\n",
       "      <td>0.0000</td>\n",
       "      <td>0.000</td>\n",
       "      <td>0.000</td>\n",
       "      <td>0.0000</td>\n",
       "      <td>0.0000</td>\n",
       "      <td>...</td>\n",
       "      <td>0.0000</td>\n",
       "      <td>0.000000</td>\n",
       "      <td>26.6197</td>\n",
       "      <td>75.5187</td>\n",
       "      <td>47.9595</td>\n",
       "      <td>27.6822</td>\n",
       "      <td>0.0000</td>\n",
       "      <td>0.000</td>\n",
       "      <td>0.000</td>\n",
       "      <td>0.000</td>\n",
       "    </tr>\n",
       "    <tr>\n",
       "      <th>MT-ND4</th>\n",
       "      <td>8225.5500</td>\n",
       "      <td>336.6070</td>\n",
       "      <td>966.5270</td>\n",
       "      <td>380.4420</td>\n",
       "      <td>1655.2000</td>\n",
       "      <td>2399.6800</td>\n",
       "      <td>1334.090</td>\n",
       "      <td>968.274</td>\n",
       "      <td>1293.6300</td>\n",
       "      <td>2400.1000</td>\n",
       "      <td>...</td>\n",
       "      <td>6880.0200</td>\n",
       "      <td>0.475512</td>\n",
       "      <td>2690.3900</td>\n",
       "      <td>4087.5000</td>\n",
       "      <td>3345.8000</td>\n",
       "      <td>1961.1700</td>\n",
       "      <td>4200.9200</td>\n",
       "      <td>9153.460</td>\n",
       "      <td>2579.020</td>\n",
       "      <td>2332.800</td>\n",
       "    </tr>\n",
       "    <tr>\n",
       "      <th>MT-ND3</th>\n",
       "      <td>2440.6100</td>\n",
       "      <td>80.1797</td>\n",
       "      <td>1001.2900</td>\n",
       "      <td>593.2920</td>\n",
       "      <td>226.1870</td>\n",
       "      <td>27.8786</td>\n",
       "      <td>139.886</td>\n",
       "      <td>271.953</td>\n",
       "      <td>0.0000</td>\n",
       "      <td>514.6270</td>\n",
       "      <td>...</td>\n",
       "      <td>31.4221</td>\n",
       "      <td>0.000000</td>\n",
       "      <td>587.4830</td>\n",
       "      <td>362.3130</td>\n",
       "      <td>766.5540</td>\n",
       "      <td>395.0910</td>\n",
       "      <td>245.5920</td>\n",
       "      <td>1734.980</td>\n",
       "      <td>475.759</td>\n",
       "      <td>438.010</td>\n",
       "    </tr>\n",
       "  </tbody>\n",
       "</table>\n",
       "<p>5 rows × 259 columns</p>\n",
       "</div>"
      ],
      "text/plain": [
       "             HL60    GW21+2       HL60      GW16       Kera         BJ  \\\n",
       "MT-TT     65.5678    0.0000    52.6264   26.5533    65.4145     0.0000   \n",
       "MT-TS2     0.0000    0.0000    64.3211    0.0000     0.0000     0.0000   \n",
       "MT-TH    120.2080    0.0000     0.0000    0.0000     0.0000     0.0000   \n",
       "MT-ND4  8225.5500  336.6070   966.5270  380.4420  1655.2000  2399.6800   \n",
       "MT-ND3  2440.6100   80.1797  1001.2900  593.2920   226.1870    27.8786   \n",
       "\n",
       "          GW21+2     GW21       GW16       2339  ...       GW16      GW16  \\\n",
       "MT-TT      0.000  206.430    92.1051    36.4242  ...   270.3900  0.000000   \n",
       "MT-TS2     0.000    0.000     0.0000    21.8545  ...     0.0000  0.000000   \n",
       "MT-TH      0.000    0.000     0.0000     0.0000  ...     0.0000  0.000000   \n",
       "MT-ND4  1334.090  968.274  1293.6300  2400.1000  ...  6880.0200  0.475512   \n",
       "MT-ND3   139.886  271.953     0.0000   514.6270  ...    31.4221  0.000000   \n",
       "\n",
       "             Kera         BJ        iPS       Kera       2338      HL60  \\\n",
       "MT-TT    266.1970     0.0000   255.7840     0.0000    13.5307   166.095   \n",
       "MT-TS2   177.4650    98.1744    95.9191    33.2187    31.9817     0.000   \n",
       "MT-TH     26.6197    75.5187    47.9595    27.6822     0.0000     0.000   \n",
       "MT-ND4  2690.3900  4087.5000  3345.8000  1961.1700  4200.9200  9153.460   \n",
       "MT-ND3   587.4830   362.3130   766.5540   395.0910   245.5920  1734.980   \n",
       "\n",
       "            Kera      GW16  \n",
       "MT-TT    349.491   142.056  \n",
       "MT-TS2   522.079     0.000  \n",
       "MT-TH      0.000     0.000  \n",
       "MT-ND4  2579.020  2332.800  \n",
       "MT-ND3   475.759   438.010  \n",
       "\n",
       "[5 rows x 259 columns]"
      ]
     },
     "execution_count": 4,
     "metadata": {},
     "output_type": "execute_result"
    }
   ],
   "source": [
    "df2.head()"
   ]
  },
  {
   "cell_type": "markdown",
   "metadata": {},
   "source": [
    "### pass the data to sc_JNMF class"
   ]
  },
  {
   "cell_type": "code",
   "execution_count": 5,
   "metadata": {},
   "outputs": [],
   "source": [
    "sc_jnmf = sc_JNMF(df1, df2, rank=8,\n",
    "                  lambda1=df1.shape[0] / df2.shape[0],\n",
    "                  lambda4=10)"
   ]
  },
  {
   "cell_type": "markdown",
   "metadata": {},
   "source": [
    "### performe the gene selection as preprocessing"
   ]
  },
  {
   "cell_type": "code",
   "execution_count": 6,
   "metadata": {},
   "outputs": [],
   "source": [
    "sc_jnmf.gene_selection()"
   ]
  },
  {
   "cell_type": "markdown",
   "metadata": {},
   "source": [
    "### transform the data to log scale"
   ]
  },
  {
   "cell_type": "code",
   "execution_count": 7,
   "metadata": {},
   "outputs": [],
   "source": [
    "sc_jnmf.log_scale()"
   ]
  },
  {
   "cell_type": "markdown",
   "metadata": {},
   "source": [
    "### normalize the data"
   ]
  },
  {
   "cell_type": "code",
   "execution_count": 8,
   "metadata": {
    "jupyter": {
     "source_hidden": true
    }
   },
   "outputs": [],
   "source": [
    "sc_jnmf.normalize()"
   ]
  },
  {
   "cell_type": "markdown",
   "metadata": {},
   "source": [
    "### performe joint matrix factorization"
   ]
  },
  {
   "cell_type": "code",
   "execution_count": 9,
   "metadata": {},
   "outputs": [
    {
     "name": "stdout",
     "output_type": "stream",
     "text": [
      "start matrix factorization ......\n",
      "finished!!\n"
     ]
    }
   ],
   "source": [
    "sc_jnmf.factorize()"
   ]
  },
  {
   "cell_type": "markdown",
   "metadata": {},
   "source": [
    "### performe cell clustering"
   ]
  },
  {
   "cell_type": "code",
   "execution_count": 10,
   "metadata": {},
   "outputs": [],
   "source": [
    "sc_jnmf.clustering(cluster_num=len(np.unique(label)))"
   ]
  },
  {
   "cell_type": "markdown",
   "metadata": {},
   "source": [
    "### confirme the clustering result"
   ]
  },
  {
   "cell_type": "code",
   "execution_count": 11,
   "metadata": {},
   "outputs": [
    {
     "data": {
      "text/plain": [
       "array([10,  3, 10,  4,  9,  8,  3,  3,  2,  6, 10, 10, 10,  2,  8,  8,  7,\n",
       "       10,  9,  8,  3,  1,  4,  8,  3,  8,  7, 10,  9, 10, 10,  1,  6,  9,\n",
       "        6,  3, 10,  3,  5, 10,  9,  9,  3,  8,  9, 10,  6,  8,  6,  5,  6,\n",
       "        1,  1,  9,  4, 10,  7,  8, 10,  9,  9,  5,  4,  5,  7,  8,  6,  7,\n",
       "        8,  2,  3,  9,  8,  9, 10, 10,  1,  9,  6, 10, 10,  9,  8, 10,  7,\n",
       "        9,  3,  8,  9,  4,  9,  1,  1, 10,  9,  9,  3,  3,  8, 10,  7,  9,\n",
       "        9,  7,  8,  6,  6, 10,  2, 10,  9,  8,  7, 10,  4, 10,  4,  9,  8,\n",
       "        8,  8, 10, 10,  2,  2,  1,  9,  2, 10,  2,  9, 10,  6,  9,  1,  7,\n",
       "        2, 10, 10,  5,  6,  5,  1,  8, 10,  2,  7,  7,  1,  1,  4,  5,  3,\n",
       "        1,  1,  9,  3,  5,  6, 10,  1,  1,  7,  8,  6,  1,  9,  7,  7, 10,\n",
       "        4,  8, 10,  7,  5, 10,  9,  3,  2,  8, 10, 10, 10,  9,  5,  2,  4,\n",
       "        8,  8,  8, 10,  5,  2,  1, 10,  8, 10,  8, 10,  4,  6,  1, 10,  5,\n",
       "       10, 10, 10,  9,  2,  3,  8, 10, 10,  8,  1,  2,  7,  6,  7,  8,  8,\n",
       "        1,  7, 10, 10,  9,  6,  8, 10,  9,  3,  4,  4,  3,  5,  1,  9, 10,\n",
       "        9,  5,  5,  7,  8,  8,  7,  1,  9,  4,  9,  4,  4,  9,  8,  1,  9,\n",
       "        7, 10,  9,  4], dtype=int32)"
      ]
     },
     "execution_count": 11,
     "metadata": {},
     "output_type": "execute_result"
    }
   ],
   "source": [
    "sc_jnmf.cluster"
   ]
  },
  {
   "cell_type": "markdown",
   "metadata": {},
   "source": [
    "### compare the result to the true label"
   ]
  },
  {
   "cell_type": "code",
   "execution_count": 12,
   "metadata": {},
   "outputs": [
    {
     "name": "stdout",
     "output_type": "stream",
     "text": [
      "ARI: 0.9434870224766149\n"
     ]
    }
   ],
   "source": [
    "from sklearn.metrics.cluster import adjusted_rand_score\n",
    "\n",
    "ari = adjusted_rand_score(label, sc_jnmf.cluster)\n",
    "print(\"ARI:\", ari)"
   ]
  }
 ],
 "metadata": {
  "kernelspec": {
   "display_name": "Python 3",
   "language": "python",
   "name": "python3"
  },
  "language_info": {
   "codemirror_mode": {
    "name": "ipython",
    "version": 3
   },
   "file_extension": ".py",
   "mimetype": "text/x-python",
   "name": "python",
   "nbconvert_exporter": "python",
   "pygments_lexer": "ipython3",
   "version": "3.6.9"
  }
 },
 "nbformat": 4,
 "nbformat_minor": 4
}
